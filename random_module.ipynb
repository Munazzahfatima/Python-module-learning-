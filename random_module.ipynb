{
  "nbformat": 4,
  "nbformat_minor": 0,
  "metadata": {
    "colab": {
      "provenance": [],
      "authorship_tag": "ABX9TyNeHp8YledFk/Ze8KgY8Mhu",
      "include_colab_link": true
    },
    "kernelspec": {
      "name": "python3",
      "display_name": "Python 3"
    },
    "language_info": {
      "name": "python"
    }
  },
  "cells": [
    {
      "cell_type": "markdown",
      "metadata": {
        "id": "view-in-github",
        "colab_type": "text"
      },
      "source": [
        "<a href=\"https://colab.research.google.com/github/Munazzahfatima/Python-module-learning-/blob/main/random_module.ipynb\" target=\"_parent\"><img src=\"https://colab.research.google.com/assets/colab-badge.svg\" alt=\"Open In Colab\"/></a>"
      ]
    },
    {
      "cell_type": "markdown",
      "source": [
        "# ***RANDOM MODULE***"
      ],
      "metadata": {
        "id": "m5soC0hGXjU9"
      }
    },
    {
      "cell_type": "code",
      "execution_count": 7,
      "metadata": {
        "colab": {
          "base_uri": "https://localhost:8080/"
        },
        "id": "_dfhKTErLdQi",
        "outputId": "09716673-ab48-4e0b-dbbe-e0c38e728412"
      },
      "outputs": [
        {
          "output_type": "stream",
          "name": "stdout",
          "text": [
            "5\n"
          ]
        }
      ],
      "source": [
        "import random\n",
        "n=random.randint(3,5) #return no between 3 and 5 (both included)\n",
        "print(n)"
      ]
    },
    {
      "cell_type": "code",
      "source": [
        "import random\n",
        "n=random.randrange(3,5)#return no between 3(included) and 5 (not included)\n",
        "print(n)"
      ],
      "metadata": {
        "colab": {
          "base_uri": "https://localhost:8080/"
        },
        "id": "l9-8bkCuLow0",
        "outputId": "94c61d72-1db5-43ae-863c-e002e0745e28"
      },
      "execution_count": 8,
      "outputs": [
        {
          "output_type": "stream",
          "name": "stdout",
          "text": [
            "4\n"
          ]
        }
      ]
    },
    {
      "cell_type": "code",
      "source": [
        "import random\n",
        "l=[\"hi\",\"hello\",\"bye\"] #retrun random element from list\n",
        "n=random.choice(l)\n",
        "print(n)"
      ],
      "metadata": {
        "colab": {
          "base_uri": "https://localhost:8080/"
        },
        "id": "KyDfsNJBL400",
        "outputId": "f0f32ef5-75a8-4aec-d3fb-ad59dc34d330"
      },
      "execution_count": 17,
      "outputs": [
        {
          "output_type": "stream",
          "name": "stdout",
          "text": [
            "bye\n"
          ]
        }
      ]
    },
    {
      "cell_type": "code",
      "source": [
        "import random\n",
        "n=random.uniform(3,5) #return float no between 3 and 5\n",
        "print(n)"
      ],
      "metadata": {
        "colab": {
          "base_uri": "https://localhost:8080/"
        },
        "id": "OcczRp4SMryz",
        "outputId": "8ef4e200-92e0-4f02-aa91-cec48d0f157a"
      },
      "execution_count": 20,
      "outputs": [
        {
          "output_type": "stream",
          "name": "stdout",
          "text": [
            "4.522364112339325\n"
          ]
        }
      ]
    },
    {
      "cell_type": "code",
      "source": [
        "import random\n",
        "n=random.random() #return float no between 0 and 1\n",
        "print(n)"
      ],
      "metadata": {
        "colab": {
          "base_uri": "https://localhost:8080/"
        },
        "id": "LuQq4toVNFPM",
        "outputId": "efd30c0a-96af-4ea5-fa66-56a2d5c5fe5b"
      },
      "execution_count": 22,
      "outputs": [
        {
          "output_type": "stream",
          "name": "stdout",
          "text": [
            "0.655063304658361\n"
          ]
        }
      ]
    },
    {
      "cell_type": "code",
      "source": [
        "import random\n",
        "l=[\"hi\",\"hello\",\"bye\"] #shuffle the elemets in the list\n",
        "random.shuffle(l)\n",
        "print(l)"
      ],
      "metadata": {
        "colab": {
          "base_uri": "https://localhost:8080/"
        },
        "id": "vgV6XxTXVcU-",
        "outputId": "f53e665a-2f1b-4dab-eaa2-679cf5d7f580"
      },
      "execution_count": 25,
      "outputs": [
        {
          "output_type": "stream",
          "name": "stdout",
          "text": [
            "['bye', 'hello', 'hi']\n"
          ]
        }
      ]
    },
    {
      "cell_type": "code",
      "source": [
        "import random\n",
        "l=[\"hi\",\"hello\",\"bye\"] # shuffle funct cantnot be stored in a varaible\n",
        "n=random.shuffle(l)\n",
        "print(n)"
      ],
      "metadata": {
        "colab": {
          "base_uri": "https://localhost:8080/"
        },
        "id": "scr4Ecg8VPFZ",
        "outputId": "79ebd523-e161-4012-b0d8-d01697befe2a"
      },
      "execution_count": 23,
      "outputs": [
        {
          "output_type": "stream",
          "name": "stdout",
          "text": [
            "None\n"
          ]
        }
      ]
    }
  ]
}